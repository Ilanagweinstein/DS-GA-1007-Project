{
 "cells": [
  {
   "cell_type": "code",
   "execution_count": 2,
   "metadata": {},
   "outputs": [],
   "source": [
    "from bs4 import BeautifulSoup\n",
    "import requests\n",
    "\n",
    "#Top 250 movies on IMDb\n",
    "url = \"https://www.imdb.com/search/title/?groups=top_250&sort=user_rating\"\n"
   ]
  },
  {
   "cell_type": "code",
   "execution_count": 3,
   "metadata": {},
   "outputs": [],
   "source": [
    "resp = requests.get(url)"
   ]
  },
  {
   "cell_type": "code",
   "execution_count": 4,
   "metadata": {},
   "outputs": [],
   "source": [
    "#All info from webpage scraped\n",
    "soup = BeautifulSoup(resp.text,'html.parser')"
   ]
  },
  {
   "cell_type": "code",
   "execution_count": 5,
   "metadata": {},
   "outputs": [],
   "source": [
    "#Scraping header: movie title and year\n",
    "scraped_titles = soup.find_all('h3',{\"class\":\"lister-item-header\"})"
   ]
  },
  {
   "cell_type": "code",
   "execution_count": 6,
   "metadata": {},
   "outputs": [
    {
     "data": {
      "text/plain": [
       "['The Shawshank Redemption',\n",
       " 'The Godfather',\n",
       " 'The Dark Knight',\n",
       " 'The Godfather: Part II',\n",
       " 'The Lord of the Rings: The Return of the King']"
      ]
     },
     "execution_count": 6,
     "metadata": {},
     "output_type": "execute_result"
    }
   ],
   "source": [
    "#Scraping for movie title\n",
    "movies = []\n",
    "for x in scraped_titles:\n",
    "    for y in x.find_all('a'):\n",
    "        movies.append(y.text)\n",
    "        \n",
    "movies[:5]"
   ]
  },
  {
   "cell_type": "code",
   "execution_count": 7,
   "metadata": {},
   "outputs": [
    {
     "data": {
      "text/plain": [
       "['(1994)', '(1972)', '(2008)', '(1974)', '(2003)']"
      ]
     },
     "execution_count": 7,
     "metadata": {},
     "output_type": "execute_result"
    }
   ],
   "source": [
    "#Scraping for movie year\n",
    "years = []\n",
    "for x in scraped_titles:\n",
    "    for y in x.find_all('span'):\n",
    "        years.append(y.text)\n",
    "        \n",
    "years = years[1::2]\n",
    "years[:5]"
   ]
  },
  {
   "cell_type": "code",
   "execution_count": 8,
   "metadata": {},
   "outputs": [
    {
     "data": {
      "text/plain": [
       "[1994, 1972, 2008, 1974, 2003]"
      ]
     },
     "execution_count": 8,
     "metadata": {},
     "output_type": "execute_result"
    }
   ],
   "source": [
    "a = []\n",
    "b = []\n",
    "\n",
    "for i in range(len(years)):\n",
    "    a.append(years[i].strip(\"(\"))\n",
    "    b.append(a[i].strip(\")\"))\n",
    "\n",
    "years = [];\n",
    "\n",
    "for _ in b:\n",
    "    years.append(int(_));\n",
    "\n",
    "years[:5]"
   ]
  },
  {
   "cell_type": "code",
   "execution_count": 9,
   "metadata": {},
   "outputs": [],
   "source": [
    "#Scraping from muted text, which is where the movie details are stored: rating, time, genres\n",
    "scraped_details = soup.find_all('p',{\"class\":\"text-muted\"})"
   ]
  },
  {
   "cell_type": "code",
   "execution_count": 10,
   "metadata": {},
   "outputs": [],
   "source": [
    "details = []\n",
    "for x in scraped_details:\n",
    "    for y in x.find_all('span'):\n",
    "        details.append(y.text)"
   ]
  },
  {
   "cell_type": "code",
   "execution_count": 11,
   "metadata": {},
   "outputs": [],
   "source": [
    "ratings = details[0::5]"
   ]
  },
  {
   "cell_type": "code",
   "execution_count": 33,
   "metadata": {},
   "outputs": [],
   "source": [
    "t = details[2::5]\n",
    "time = []\n",
    "for i in t:\n",
    "    var = i.strip(\" min\")\n",
    "    time.append(var)"
   ]
  },
  {
   "cell_type": "code",
   "execution_count": 13,
   "metadata": {},
   "outputs": [
    {
     "data": {
      "text/plain": [
       "['Drama',\n",
       " 'Crime, Drama',\n",
       " 'Action, Crime, Drama',\n",
       " 'Crime, Drama',\n",
       " 'Adventure, Drama, Fantasy']"
      ]
     },
     "execution_count": 13,
     "metadata": {},
     "output_type": "execute_result"
    }
   ],
   "source": [
    "g = details[4::5]\n",
    "genres = []\n",
    "for i in range(len(g)):\n",
    "    genres.append(g[i].strip())\n",
    "genres[:5]"
   ]
  },
  {
   "cell_type": "code",
   "execution_count": 56,
   "metadata": {},
   "outputs": [],
   "source": [
    "#Scraping from ratings bar\n",
    "scraped_ratings_bar = soup.find_all('div',{\"class\":\"ratings-bar\"})\n",
    "s = []\n",
    "for x in scraped_ratings_bar:\n",
    "    for y in x.find_all('div',{\"class\":\"inline-block ratings-imdb-rating\"}):\n",
    "        s.append(y.text)\n",
    "stars = []\n",
    "for i in s:\n",
    "    stars.append(i.strip(\"\\n\"))"
   ]
  },
  {
   "cell_type": "code",
   "execution_count": 40,
   "metadata": {},
   "outputs": [],
   "source": [
    "#Scraping from num votes, which is where votes and gross $ are stored\n",
    "scraped_nums = soup.find_all('p',{\"class\":\"sort-num_votes-visible\"})\n",
    "nums = []\n",
    "for x in scraped_nums:\n",
    "    for y in x.find_all('span'):\n",
    "        nums.append(y.text)\n",
    "        \n",
    "import numpy as np\n",
    "nums = np.array(nums)"
   ]
  },
  {
   "cell_type": "code",
   "execution_count": 58,
   "metadata": {},
   "outputs": [],
   "source": [
    "m = []\n",
    "for x in scraped_ratings_bar:\n",
    "    for y in x.find_all('div',{\"class\":\"inline-block ratings-metascore\"}):\n",
    "        m.append(y.text)\n",
    "metascore = []\n",
    "\n",
    "for i in range(len(m)):\n",
    "    metascore.append(int(((((((m[i].strip(\"\\n\")).strip(\" \")).strip(\"\\n\")).strip(\"Metascore\")).strip(\" \")).strip(\"\\n\")).strip(\" \")))"
   ]
  },
  {
   "cell_type": "code",
   "execution_count": 44,
   "metadata": {},
   "outputs": [],
   "source": [
    "searchval = \"Votes:\"\n",
    "ind = np.where(nums == searchval)[0]+1\n",
    "votes = nums[ind]"
   ]
  },
  {
   "cell_type": "code",
   "execution_count": 49,
   "metadata": {},
   "outputs": [],
   "source": [
    "searchval = \"Gross:\"\n",
    "ind = np.where(nums == searchval)[0]+1\n",
    "gr = nums[ind]\n",
    "gross = []\n",
    "\n",
    "for i in range(len(gr)):\n",
    "    a = gr[i].strip(\"$\")\n",
    "    gross.append(a.strip(\"M\"))"
   ]
  },
  {
   "cell_type": "code",
   "execution_count": 59,
   "metadata": {},
   "outputs": [
    {
     "data": {
      "text/html": [
       "<div>\n",
       "<style scoped>\n",
       "    .dataframe tbody tr th:only-of-type {\n",
       "        vertical-align: middle;\n",
       "    }\n",
       "\n",
       "    .dataframe tbody tr th {\n",
       "        vertical-align: top;\n",
       "    }\n",
       "\n",
       "    .dataframe thead th {\n",
       "        text-align: right;\n",
       "    }\n",
       "</style>\n",
       "<table border=\"1\" class=\"dataframe\">\n",
       "  <thead>\n",
       "    <tr style=\"text-align: right;\">\n",
       "      <th></th>\n",
       "      <th>Movie</th>\n",
       "      <th>Year</th>\n",
       "      <th>Rating</th>\n",
       "      <th>Duration (min)</th>\n",
       "      <th>Genres</th>\n",
       "      <th>Stars</th>\n",
       "      <th>Metascore</th>\n",
       "      <th>Votes</th>\n",
       "      <th>Gross ($M)</th>\n",
       "    </tr>\n",
       "  </thead>\n",
       "  <tbody>\n",
       "    <tr>\n",
       "      <th>0</th>\n",
       "      <td>The Shawshank Redemption</td>\n",
       "      <td>1994</td>\n",
       "      <td>R</td>\n",
       "      <td>142</td>\n",
       "      <td>Drama</td>\n",
       "      <td>9.3</td>\n",
       "      <td>80</td>\n",
       "      <td>2,158,341</td>\n",
       "      <td>28.34</td>\n",
       "    </tr>\n",
       "    <tr>\n",
       "      <th>1</th>\n",
       "      <td>The Godfather</td>\n",
       "      <td>1972</td>\n",
       "      <td>R</td>\n",
       "      <td>175</td>\n",
       "      <td>Crime, Drama</td>\n",
       "      <td>9.2</td>\n",
       "      <td>100</td>\n",
       "      <td>1,481,200</td>\n",
       "      <td>134.97</td>\n",
       "    </tr>\n",
       "    <tr>\n",
       "      <th>2</th>\n",
       "      <td>The Dark Knight</td>\n",
       "      <td>2008</td>\n",
       "      <td>PG-13</td>\n",
       "      <td>152</td>\n",
       "      <td>Action, Crime, Drama</td>\n",
       "      <td>9.0</td>\n",
       "      <td>84</td>\n",
       "      <td>2,133,002</td>\n",
       "      <td>534.86</td>\n",
       "    </tr>\n",
       "    <tr>\n",
       "      <th>3</th>\n",
       "      <td>The Godfather: Part II</td>\n",
       "      <td>1974</td>\n",
       "      <td>R</td>\n",
       "      <td>202</td>\n",
       "      <td>Crime, Drama</td>\n",
       "      <td>9.0</td>\n",
       "      <td>90</td>\n",
       "      <td>1,031,298</td>\n",
       "      <td>57.30</td>\n",
       "    </tr>\n",
       "    <tr>\n",
       "      <th>4</th>\n",
       "      <td>The Lord of the Rings: The Return of the King</td>\n",
       "      <td>2003</td>\n",
       "      <td>PG-13</td>\n",
       "      <td>201</td>\n",
       "      <td>Adventure, Drama, Fantasy</td>\n",
       "      <td>8.9</td>\n",
       "      <td>94</td>\n",
       "      <td>1,532,690</td>\n",
       "      <td>377.85</td>\n",
       "    </tr>\n",
       "  </tbody>\n",
       "</table>\n",
       "</div>"
      ],
      "text/plain": [
       "                                           Movie  Year Rating Duration (min)  \\\n",
       "0                       The Shawshank Redemption  1994      R            142   \n",
       "1                                  The Godfather  1972      R            175   \n",
       "2                                The Dark Knight  2008  PG-13            152   \n",
       "3                         The Godfather: Part II  1974      R            202   \n",
       "4  The Lord of the Rings: The Return of the King  2003  PG-13            201   \n",
       "\n",
       "                      Genres Stars Metascore      Votes Gross ($M)  \n",
       "0                      Drama   9.3        80  2,158,341      28.34  \n",
       "1               Crime, Drama   9.2       100  1,481,200     134.97  \n",
       "2       Action, Crime, Drama   9.0        84  2,133,002     534.86  \n",
       "3               Crime, Drama   9.0        90  1,031,298      57.30  \n",
       "4  Adventure, Drama, Fantasy   8.9        94  1,532,690     377.85  "
      ]
     },
     "execution_count": 59,
     "metadata": {},
     "output_type": "execute_result"
    }
   ],
   "source": [
    "import pandas as pd\n",
    "df = pd.DataFrame([movies,years,ratings,time,genres,stars,metascore,votes,gross]).transpose()\n",
    "df.columns = ['Movie', 'Year', 'Rating', 'Duration (min)', 'Genres','Stars','Metascore','Votes','Gross ($M)']\n",
    "df.head()"
   ]
  },
  {
   "cell_type": "code",
   "execution_count": null,
   "metadata": {},
   "outputs": [],
   "source": []
  }
 ],
 "metadata": {
  "kernelspec": {
   "display_name": "Python 3",
   "language": "python",
   "name": "python3"
  },
  "language_info": {
   "codemirror_mode": {
    "name": "ipython",
    "version": 3
   },
   "file_extension": ".py",
   "mimetype": "text/x-python",
   "name": "python",
   "nbconvert_exporter": "python",
   "pygments_lexer": "ipython3",
   "version": "3.7.3"
  }
 },
 "nbformat": 4,
 "nbformat_minor": 2
}
